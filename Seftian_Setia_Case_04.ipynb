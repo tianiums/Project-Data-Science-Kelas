{
  "cells": [
    {
      "cell_type": "markdown",
      "metadata": {
        "_uuid": "2f82cc24efc6283e5a98cadb78fc1a465e44c143",
        "collapsed": true,
        "id": "o3AWVwiNy8X1"
      },
      "source": [
        "## Import Libraries"
      ]
    },
    {
      "cell_type": "code",
      "execution_count": 1,
      "metadata": {
        "_uuid": "da0236e4b36ce514c1fec3fd72f236d1fa259131",
        "id": "YwVEiWs4y8X-"
      },
      "outputs": [],
      "source": [
        "# Importing the libraries, fill the import name libraries below\n",
        "import numpy as np\n",
        "import matplotlib.pyplot as plt\n",
        "plt.style.use('fivethirtyeight')\n",
        "import pandas as pd\n",
        "from tensorflow.keras.optimizers import SGD\n",
        "from sklearn.preprocessing import MinMaxScaler\n",
        "import seaborn as sns\n",
        "\n",
        "#Import keras libraries that you need\n",
        "from keras.models import Sequential\n",
        "from keras.layers import Dense, LSTM, Dropout, GRU, Bidirectional\n",
        "import math\n",
        "from sklearn.metrics import mean_squared_error"
      ]
    },
    {
      "cell_type": "markdown",
      "metadata": {
        "id": "ZVsvEDZuy8YC"
      },
      "source": [
        "# EDA"
      ]
    },
    {
      "cell_type": "code",
      "execution_count": 16,
      "metadata": {
        "_uuid": "b288a8e2caf6196daec9cd2bc4ca78fe50345845",
        "id": "C4x6Gkd6y8YE"
      },
      "outputs": [],
      "source": [
        "# Some functions to help out with this code\n",
        "def prediction_plot(test,predicted):\n",
        "    plt.plot(test, color='red',label='Real AMZN Stock Price')\n",
        "    plt.plot(predicted, color='blue',label=' AMZN Predicted  Stock Price')\n",
        "    plt.title('AMZN Stock Price Prediction')\n",
        "    plt.xlabel('Time')\n",
        "    plt.ylabel('AMZN Stock Price')\n",
        "    plt.legend()\n",
        "    plt.show()\n",
        "    #fill the function to predict\n",
        "\n",
        "def rmse_eval(test,predicted):\n",
        "    rmse = math.sqrt(mean_squared_error(test,predicted))\n",
        "    print(\"The root mean squared error is {}.\".format(rmse))\n",
        "    #fill the function for evaluation model\n",
        "\n",
        ""
      ]
    },
    {
      "cell_type": "code",
      "execution_count": 3,
      "metadata": {
        "_uuid": "4cf10cf27420eb383b93b15c0895139ea96c0ed3",
        "id": "ExWrXFx0y8YF"
      },
      "outputs": [],
      "source": [
        "# Import Dataset\n",
        "dataset = pd.read_csv(\"https://raw.githubusercontent.com/tianiums/Data-Set/main/AMZN_2006-01-01_to_2018-01-01.csv\", index_col='Date', parse_dates=['Date']) #import dataset based on your directory"
      ]
    },
    {
      "cell_type": "code",
      "source": [
        "dataset.head()"
      ],
      "metadata": {
        "colab": {
          "base_uri": "https://localhost:8080/",
          "height": 238
        },
        "id": "9JoxU9DR2sq9",
        "outputId": "9b90fd06-748d-47d1-b5b0-8e66d6b3369f"
      },
      "execution_count": 4,
      "outputs": [
        {
          "output_type": "execute_result",
          "data": {
            "text/plain": [
              "             Open   High    Low  Close   Volume  Name\n",
              "Date                                                 \n",
              "2006-01-03  47.47  47.85  46.25  47.58  7582127  AMZN\n",
              "2006-01-04  47.48  47.73  46.69  47.25  7440914  AMZN\n",
              "2006-01-05  47.16  48.20  47.11  47.65  5417258  AMZN\n",
              "2006-01-06  47.97  48.58  47.32  47.87  6154285  AMZN\n",
              "2006-01-09  46.55  47.10  46.40  47.08  8945056  AMZN"
            ],
            "text/html": [
              "\n",
              "  <div id=\"df-b4eff1e4-c177-4420-95c4-35b871f4d48b\" class=\"colab-df-container\">\n",
              "    <div>\n",
              "<style scoped>\n",
              "    .dataframe tbody tr th:only-of-type {\n",
              "        vertical-align: middle;\n",
              "    }\n",
              "\n",
              "    .dataframe tbody tr th {\n",
              "        vertical-align: top;\n",
              "    }\n",
              "\n",
              "    .dataframe thead th {\n",
              "        text-align: right;\n",
              "    }\n",
              "</style>\n",
              "<table border=\"1\" class=\"dataframe\">\n",
              "  <thead>\n",
              "    <tr style=\"text-align: right;\">\n",
              "      <th></th>\n",
              "      <th>Open</th>\n",
              "      <th>High</th>\n",
              "      <th>Low</th>\n",
              "      <th>Close</th>\n",
              "      <th>Volume</th>\n",
              "      <th>Name</th>\n",
              "    </tr>\n",
              "    <tr>\n",
              "      <th>Date</th>\n",
              "      <th></th>\n",
              "      <th></th>\n",
              "      <th></th>\n",
              "      <th></th>\n",
              "      <th></th>\n",
              "      <th></th>\n",
              "    </tr>\n",
              "  </thead>\n",
              "  <tbody>\n",
              "    <tr>\n",
              "      <th>2006-01-03</th>\n",
              "      <td>47.47</td>\n",
              "      <td>47.85</td>\n",
              "      <td>46.25</td>\n",
              "      <td>47.58</td>\n",
              "      <td>7582127</td>\n",
              "      <td>AMZN</td>\n",
              "    </tr>\n",
              "    <tr>\n",
              "      <th>2006-01-04</th>\n",
              "      <td>47.48</td>\n",
              "      <td>47.73</td>\n",
              "      <td>46.69</td>\n",
              "      <td>47.25</td>\n",
              "      <td>7440914</td>\n",
              "      <td>AMZN</td>\n",
              "    </tr>\n",
              "    <tr>\n",
              "      <th>2006-01-05</th>\n",
              "      <td>47.16</td>\n",
              "      <td>48.20</td>\n",
              "      <td>47.11</td>\n",
              "      <td>47.65</td>\n",
              "      <td>5417258</td>\n",
              "      <td>AMZN</td>\n",
              "    </tr>\n",
              "    <tr>\n",
              "      <th>2006-01-06</th>\n",
              "      <td>47.97</td>\n",
              "      <td>48.58</td>\n",
              "      <td>47.32</td>\n",
              "      <td>47.87</td>\n",
              "      <td>6154285</td>\n",
              "      <td>AMZN</td>\n",
              "    </tr>\n",
              "    <tr>\n",
              "      <th>2006-01-09</th>\n",
              "      <td>46.55</td>\n",
              "      <td>47.10</td>\n",
              "      <td>46.40</td>\n",
              "      <td>47.08</td>\n",
              "      <td>8945056</td>\n",
              "      <td>AMZN</td>\n",
              "    </tr>\n",
              "  </tbody>\n",
              "</table>\n",
              "</div>\n",
              "    <div class=\"colab-df-buttons\">\n",
              "\n",
              "  <div class=\"colab-df-container\">\n",
              "    <button class=\"colab-df-convert\" onclick=\"convertToInteractive('df-b4eff1e4-c177-4420-95c4-35b871f4d48b')\"\n",
              "            title=\"Convert this dataframe to an interactive table.\"\n",
              "            style=\"display:none;\">\n",
              "\n",
              "  <svg xmlns=\"http://www.w3.org/2000/svg\" height=\"24px\" viewBox=\"0 -960 960 960\">\n",
              "    <path d=\"M120-120v-720h720v720H120Zm60-500h600v-160H180v160Zm220 220h160v-160H400v160Zm0 220h160v-160H400v160ZM180-400h160v-160H180v160Zm440 0h160v-160H620v160ZM180-180h160v-160H180v160Zm440 0h160v-160H620v160Z\"/>\n",
              "  </svg>\n",
              "    </button>\n",
              "\n",
              "  <style>\n",
              "    .colab-df-container {\n",
              "      display:flex;\n",
              "      gap: 12px;\n",
              "    }\n",
              "\n",
              "    .colab-df-convert {\n",
              "      background-color: #E8F0FE;\n",
              "      border: none;\n",
              "      border-radius: 50%;\n",
              "      cursor: pointer;\n",
              "      display: none;\n",
              "      fill: #1967D2;\n",
              "      height: 32px;\n",
              "      padding: 0 0 0 0;\n",
              "      width: 32px;\n",
              "    }\n",
              "\n",
              "    .colab-df-convert:hover {\n",
              "      background-color: #E2EBFA;\n",
              "      box-shadow: 0px 1px 2px rgba(60, 64, 67, 0.3), 0px 1px 3px 1px rgba(60, 64, 67, 0.15);\n",
              "      fill: #174EA6;\n",
              "    }\n",
              "\n",
              "    .colab-df-buttons div {\n",
              "      margin-bottom: 4px;\n",
              "    }\n",
              "\n",
              "    [theme=dark] .colab-df-convert {\n",
              "      background-color: #3B4455;\n",
              "      fill: #D2E3FC;\n",
              "    }\n",
              "\n",
              "    [theme=dark] .colab-df-convert:hover {\n",
              "      background-color: #434B5C;\n",
              "      box-shadow: 0px 1px 3px 1px rgba(0, 0, 0, 0.15);\n",
              "      filter: drop-shadow(0px 1px 2px rgba(0, 0, 0, 0.3));\n",
              "      fill: #FFFFFF;\n",
              "    }\n",
              "  </style>\n",
              "\n",
              "    <script>\n",
              "      const buttonEl =\n",
              "        document.querySelector('#df-b4eff1e4-c177-4420-95c4-35b871f4d48b button.colab-df-convert');\n",
              "      buttonEl.style.display =\n",
              "        google.colab.kernel.accessAllowed ? 'block' : 'none';\n",
              "\n",
              "      async function convertToInteractive(key) {\n",
              "        const element = document.querySelector('#df-b4eff1e4-c177-4420-95c4-35b871f4d48b');\n",
              "        const dataTable =\n",
              "          await google.colab.kernel.invokeFunction('convertToInteractive',\n",
              "                                                    [key], {});\n",
              "        if (!dataTable) return;\n",
              "\n",
              "        const docLinkHtml = 'Like what you see? Visit the ' +\n",
              "          '<a target=\"_blank\" href=https://colab.research.google.com/notebooks/data_table.ipynb>data table notebook</a>'\n",
              "          + ' to learn more about interactive tables.';\n",
              "        element.innerHTML = '';\n",
              "        dataTable['output_type'] = 'display_data';\n",
              "        await google.colab.output.renderOutput(dataTable, element);\n",
              "        const docLink = document.createElement('div');\n",
              "        docLink.innerHTML = docLinkHtml;\n",
              "        element.appendChild(docLink);\n",
              "      }\n",
              "    </script>\n",
              "  </div>\n",
              "\n",
              "\n",
              "<div id=\"df-974a0f27-c364-4560-acbe-ac0b21b15c2c\">\n",
              "  <button class=\"colab-df-quickchart\" onclick=\"quickchart('df-974a0f27-c364-4560-acbe-ac0b21b15c2c')\"\n",
              "            title=\"Suggest charts\"\n",
              "            style=\"display:none;\">\n",
              "\n",
              "<svg xmlns=\"http://www.w3.org/2000/svg\" height=\"24px\"viewBox=\"0 0 24 24\"\n",
              "     width=\"24px\">\n",
              "    <g>\n",
              "        <path d=\"M19 3H5c-1.1 0-2 .9-2 2v14c0 1.1.9 2 2 2h14c1.1 0 2-.9 2-2V5c0-1.1-.9-2-2-2zM9 17H7v-7h2v7zm4 0h-2V7h2v10zm4 0h-2v-4h2v4z\"/>\n",
              "    </g>\n",
              "</svg>\n",
              "  </button>\n",
              "\n",
              "<style>\n",
              "  .colab-df-quickchart {\n",
              "      --bg-color: #E8F0FE;\n",
              "      --fill-color: #1967D2;\n",
              "      --hover-bg-color: #E2EBFA;\n",
              "      --hover-fill-color: #174EA6;\n",
              "      --disabled-fill-color: #AAA;\n",
              "      --disabled-bg-color: #DDD;\n",
              "  }\n",
              "\n",
              "  [theme=dark] .colab-df-quickchart {\n",
              "      --bg-color: #3B4455;\n",
              "      --fill-color: #D2E3FC;\n",
              "      --hover-bg-color: #434B5C;\n",
              "      --hover-fill-color: #FFFFFF;\n",
              "      --disabled-bg-color: #3B4455;\n",
              "      --disabled-fill-color: #666;\n",
              "  }\n",
              "\n",
              "  .colab-df-quickchart {\n",
              "    background-color: var(--bg-color);\n",
              "    border: none;\n",
              "    border-radius: 50%;\n",
              "    cursor: pointer;\n",
              "    display: none;\n",
              "    fill: var(--fill-color);\n",
              "    height: 32px;\n",
              "    padding: 0;\n",
              "    width: 32px;\n",
              "  }\n",
              "\n",
              "  .colab-df-quickchart:hover {\n",
              "    background-color: var(--hover-bg-color);\n",
              "    box-shadow: 0 1px 2px rgba(60, 64, 67, 0.3), 0 1px 3px 1px rgba(60, 64, 67, 0.15);\n",
              "    fill: var(--button-hover-fill-color);\n",
              "  }\n",
              "\n",
              "  .colab-df-quickchart-complete:disabled,\n",
              "  .colab-df-quickchart-complete:disabled:hover {\n",
              "    background-color: var(--disabled-bg-color);\n",
              "    fill: var(--disabled-fill-color);\n",
              "    box-shadow: none;\n",
              "  }\n",
              "\n",
              "  .colab-df-spinner {\n",
              "    border: 2px solid var(--fill-color);\n",
              "    border-color: transparent;\n",
              "    border-bottom-color: var(--fill-color);\n",
              "    animation:\n",
              "      spin 1s steps(1) infinite;\n",
              "  }\n",
              "\n",
              "  @keyframes spin {\n",
              "    0% {\n",
              "      border-color: transparent;\n",
              "      border-bottom-color: var(--fill-color);\n",
              "      border-left-color: var(--fill-color);\n",
              "    }\n",
              "    20% {\n",
              "      border-color: transparent;\n",
              "      border-left-color: var(--fill-color);\n",
              "      border-top-color: var(--fill-color);\n",
              "    }\n",
              "    30% {\n",
              "      border-color: transparent;\n",
              "      border-left-color: var(--fill-color);\n",
              "      border-top-color: var(--fill-color);\n",
              "      border-right-color: var(--fill-color);\n",
              "    }\n",
              "    40% {\n",
              "      border-color: transparent;\n",
              "      border-right-color: var(--fill-color);\n",
              "      border-top-color: var(--fill-color);\n",
              "    }\n",
              "    60% {\n",
              "      border-color: transparent;\n",
              "      border-right-color: var(--fill-color);\n",
              "    }\n",
              "    80% {\n",
              "      border-color: transparent;\n",
              "      border-right-color: var(--fill-color);\n",
              "      border-bottom-color: var(--fill-color);\n",
              "    }\n",
              "    90% {\n",
              "      border-color: transparent;\n",
              "      border-bottom-color: var(--fill-color);\n",
              "    }\n",
              "  }\n",
              "</style>\n",
              "\n",
              "  <script>\n",
              "    async function quickchart(key) {\n",
              "      const quickchartButtonEl =\n",
              "        document.querySelector('#' + key + ' button');\n",
              "      quickchartButtonEl.disabled = true;  // To prevent multiple clicks.\n",
              "      quickchartButtonEl.classList.add('colab-df-spinner');\n",
              "      try {\n",
              "        const charts = await google.colab.kernel.invokeFunction(\n",
              "            'suggestCharts', [key], {});\n",
              "      } catch (error) {\n",
              "        console.error('Error during call to suggestCharts:', error);\n",
              "      }\n",
              "      quickchartButtonEl.classList.remove('colab-df-spinner');\n",
              "      quickchartButtonEl.classList.add('colab-df-quickchart-complete');\n",
              "    }\n",
              "    (() => {\n",
              "      let quickchartButtonEl =\n",
              "        document.querySelector('#df-974a0f27-c364-4560-acbe-ac0b21b15c2c button');\n",
              "      quickchartButtonEl.style.display =\n",
              "        google.colab.kernel.accessAllowed ? 'block' : 'none';\n",
              "    })();\n",
              "  </script>\n",
              "</div>\n",
              "    </div>\n",
              "  </div>\n"
            ]
          },
          "metadata": {},
          "execution_count": 4
        }
      ]
    },
    {
      "cell_type": "code",
      "source": [
        "dataset.info()"
      ],
      "metadata": {
        "colab": {
          "base_uri": "https://localhost:8080/"
        },
        "id": "FoqCrje2222r",
        "outputId": "45be71cd-3eca-48cf-aa8c-5fa2e092867a"
      },
      "execution_count": 5,
      "outputs": [
        {
          "output_type": "stream",
          "name": "stdout",
          "text": [
            "<class 'pandas.core.frame.DataFrame'>\n",
            "DatetimeIndex: 3019 entries, 2006-01-03 to 2017-12-29\n",
            "Data columns (total 6 columns):\n",
            " #   Column  Non-Null Count  Dtype  \n",
            "---  ------  --------------  -----  \n",
            " 0   Open    3019 non-null   float64\n",
            " 1   High    3019 non-null   float64\n",
            " 2   Low     3019 non-null   float64\n",
            " 3   Close   3019 non-null   float64\n",
            " 4   Volume  3019 non-null   int64  \n",
            " 5   Name    3019 non-null   object \n",
            "dtypes: float64(4), int64(1), object(1)\n",
            "memory usage: 165.1+ KB\n"
          ]
        }
      ]
    },
    {
      "cell_type": "code",
      "source": [
        "#dataset['Date'] = pd.to_datetime(dataset['Date']) #tidak diubah dulu"
      ],
      "metadata": {
        "id": "ulRxR81h3IVe"
      },
      "execution_count": null,
      "outputs": []
    },
    {
      "cell_type": "code",
      "source": [
        "#dataset.info()"
      ],
      "metadata": {
        "id": "OUSltMKf3h_d"
      },
      "execution_count": 6,
      "outputs": []
    },
    {
      "cell_type": "code",
      "source": [
        "dataset.tail()"
      ],
      "metadata": {
        "colab": {
          "base_uri": "https://localhost:8080/",
          "height": 238
        },
        "id": "SIPV-B8c35We",
        "outputId": "27062d61-0579-49a7-a7f4-7835705185c5"
      },
      "execution_count": 7,
      "outputs": [
        {
          "output_type": "execute_result",
          "data": {
            "text/plain": [
              "               Open     High      Low    Close   Volume  Name\n",
              "Date                                                         \n",
              "2017-12-22  1172.08  1174.62  1167.83  1168.36  1585054  AMZN\n",
              "2017-12-26  1168.36  1178.32  1160.55  1176.76  2005187  AMZN\n",
              "2017-12-27  1179.91  1187.29  1175.61  1182.26  1867208  AMZN\n",
              "2017-12-28  1189.00  1190.10  1184.38  1186.10  1841676  AMZN\n",
              "2017-12-29  1182.35  1184.00  1167.50  1169.47  2688391  AMZN"
            ],
            "text/html": [
              "\n",
              "  <div id=\"df-3c7fcc0e-c3c0-41e1-a4f9-88fedd7db746\" class=\"colab-df-container\">\n",
              "    <div>\n",
              "<style scoped>\n",
              "    .dataframe tbody tr th:only-of-type {\n",
              "        vertical-align: middle;\n",
              "    }\n",
              "\n",
              "    .dataframe tbody tr th {\n",
              "        vertical-align: top;\n",
              "    }\n",
              "\n",
              "    .dataframe thead th {\n",
              "        text-align: right;\n",
              "    }\n",
              "</style>\n",
              "<table border=\"1\" class=\"dataframe\">\n",
              "  <thead>\n",
              "    <tr style=\"text-align: right;\">\n",
              "      <th></th>\n",
              "      <th>Open</th>\n",
              "      <th>High</th>\n",
              "      <th>Low</th>\n",
              "      <th>Close</th>\n",
              "      <th>Volume</th>\n",
              "      <th>Name</th>\n",
              "    </tr>\n",
              "    <tr>\n",
              "      <th>Date</th>\n",
              "      <th></th>\n",
              "      <th></th>\n",
              "      <th></th>\n",
              "      <th></th>\n",
              "      <th></th>\n",
              "      <th></th>\n",
              "    </tr>\n",
              "  </thead>\n",
              "  <tbody>\n",
              "    <tr>\n",
              "      <th>2017-12-22</th>\n",
              "      <td>1172.08</td>\n",
              "      <td>1174.62</td>\n",
              "      <td>1167.83</td>\n",
              "      <td>1168.36</td>\n",
              "      <td>1585054</td>\n",
              "      <td>AMZN</td>\n",
              "    </tr>\n",
              "    <tr>\n",
              "      <th>2017-12-26</th>\n",
              "      <td>1168.36</td>\n",
              "      <td>1178.32</td>\n",
              "      <td>1160.55</td>\n",
              "      <td>1176.76</td>\n",
              "      <td>2005187</td>\n",
              "      <td>AMZN</td>\n",
              "    </tr>\n",
              "    <tr>\n",
              "      <th>2017-12-27</th>\n",
              "      <td>1179.91</td>\n",
              "      <td>1187.29</td>\n",
              "      <td>1175.61</td>\n",
              "      <td>1182.26</td>\n",
              "      <td>1867208</td>\n",
              "      <td>AMZN</td>\n",
              "    </tr>\n",
              "    <tr>\n",
              "      <th>2017-12-28</th>\n",
              "      <td>1189.00</td>\n",
              "      <td>1190.10</td>\n",
              "      <td>1184.38</td>\n",
              "      <td>1186.10</td>\n",
              "      <td>1841676</td>\n",
              "      <td>AMZN</td>\n",
              "    </tr>\n",
              "    <tr>\n",
              "      <th>2017-12-29</th>\n",
              "      <td>1182.35</td>\n",
              "      <td>1184.00</td>\n",
              "      <td>1167.50</td>\n",
              "      <td>1169.47</td>\n",
              "      <td>2688391</td>\n",
              "      <td>AMZN</td>\n",
              "    </tr>\n",
              "  </tbody>\n",
              "</table>\n",
              "</div>\n",
              "    <div class=\"colab-df-buttons\">\n",
              "\n",
              "  <div class=\"colab-df-container\">\n",
              "    <button class=\"colab-df-convert\" onclick=\"convertToInteractive('df-3c7fcc0e-c3c0-41e1-a4f9-88fedd7db746')\"\n",
              "            title=\"Convert this dataframe to an interactive table.\"\n",
              "            style=\"display:none;\">\n",
              "\n",
              "  <svg xmlns=\"http://www.w3.org/2000/svg\" height=\"24px\" viewBox=\"0 -960 960 960\">\n",
              "    <path d=\"M120-120v-720h720v720H120Zm60-500h600v-160H180v160Zm220 220h160v-160H400v160Zm0 220h160v-160H400v160ZM180-400h160v-160H180v160Zm440 0h160v-160H620v160ZM180-180h160v-160H180v160Zm440 0h160v-160H620v160Z\"/>\n",
              "  </svg>\n",
              "    </button>\n",
              "\n",
              "  <style>\n",
              "    .colab-df-container {\n",
              "      display:flex;\n",
              "      gap: 12px;\n",
              "    }\n",
              "\n",
              "    .colab-df-convert {\n",
              "      background-color: #E8F0FE;\n",
              "      border: none;\n",
              "      border-radius: 50%;\n",
              "      cursor: pointer;\n",
              "      display: none;\n",
              "      fill: #1967D2;\n",
              "      height: 32px;\n",
              "      padding: 0 0 0 0;\n",
              "      width: 32px;\n",
              "    }\n",
              "\n",
              "    .colab-df-convert:hover {\n",
              "      background-color: #E2EBFA;\n",
              "      box-shadow: 0px 1px 2px rgba(60, 64, 67, 0.3), 0px 1px 3px 1px rgba(60, 64, 67, 0.15);\n",
              "      fill: #174EA6;\n",
              "    }\n",
              "\n",
              "    .colab-df-buttons div {\n",
              "      margin-bottom: 4px;\n",
              "    }\n",
              "\n",
              "    [theme=dark] .colab-df-convert {\n",
              "      background-color: #3B4455;\n",
              "      fill: #D2E3FC;\n",
              "    }\n",
              "\n",
              "    [theme=dark] .colab-df-convert:hover {\n",
              "      background-color: #434B5C;\n",
              "      box-shadow: 0px 1px 3px 1px rgba(0, 0, 0, 0.15);\n",
              "      filter: drop-shadow(0px 1px 2px rgba(0, 0, 0, 0.3));\n",
              "      fill: #FFFFFF;\n",
              "    }\n",
              "  </style>\n",
              "\n",
              "    <script>\n",
              "      const buttonEl =\n",
              "        document.querySelector('#df-3c7fcc0e-c3c0-41e1-a4f9-88fedd7db746 button.colab-df-convert');\n",
              "      buttonEl.style.display =\n",
              "        google.colab.kernel.accessAllowed ? 'block' : 'none';\n",
              "\n",
              "      async function convertToInteractive(key) {\n",
              "        const element = document.querySelector('#df-3c7fcc0e-c3c0-41e1-a4f9-88fedd7db746');\n",
              "        const dataTable =\n",
              "          await google.colab.kernel.invokeFunction('convertToInteractive',\n",
              "                                                    [key], {});\n",
              "        if (!dataTable) return;\n",
              "\n",
              "        const docLinkHtml = 'Like what you see? Visit the ' +\n",
              "          '<a target=\"_blank\" href=https://colab.research.google.com/notebooks/data_table.ipynb>data table notebook</a>'\n",
              "          + ' to learn more about interactive tables.';\n",
              "        element.innerHTML = '';\n",
              "        dataTable['output_type'] = 'display_data';\n",
              "        await google.colab.output.renderOutput(dataTable, element);\n",
              "        const docLink = document.createElement('div');\n",
              "        docLink.innerHTML = docLinkHtml;\n",
              "        element.appendChild(docLink);\n",
              "      }\n",
              "    </script>\n",
              "  </div>\n",
              "\n",
              "\n",
              "<div id=\"df-926e2fc5-1da4-4005-9f5d-f1fcd8bec3fc\">\n",
              "  <button class=\"colab-df-quickchart\" onclick=\"quickchart('df-926e2fc5-1da4-4005-9f5d-f1fcd8bec3fc')\"\n",
              "            title=\"Suggest charts\"\n",
              "            style=\"display:none;\">\n",
              "\n",
              "<svg xmlns=\"http://www.w3.org/2000/svg\" height=\"24px\"viewBox=\"0 0 24 24\"\n",
              "     width=\"24px\">\n",
              "    <g>\n",
              "        <path d=\"M19 3H5c-1.1 0-2 .9-2 2v14c0 1.1.9 2 2 2h14c1.1 0 2-.9 2-2V5c0-1.1-.9-2-2-2zM9 17H7v-7h2v7zm4 0h-2V7h2v10zm4 0h-2v-4h2v4z\"/>\n",
              "    </g>\n",
              "</svg>\n",
              "  </button>\n",
              "\n",
              "<style>\n",
              "  .colab-df-quickchart {\n",
              "      --bg-color: #E8F0FE;\n",
              "      --fill-color: #1967D2;\n",
              "      --hover-bg-color: #E2EBFA;\n",
              "      --hover-fill-color: #174EA6;\n",
              "      --disabled-fill-color: #AAA;\n",
              "      --disabled-bg-color: #DDD;\n",
              "  }\n",
              "\n",
              "  [theme=dark] .colab-df-quickchart {\n",
              "      --bg-color: #3B4455;\n",
              "      --fill-color: #D2E3FC;\n",
              "      --hover-bg-color: #434B5C;\n",
              "      --hover-fill-color: #FFFFFF;\n",
              "      --disabled-bg-color: #3B4455;\n",
              "      --disabled-fill-color: #666;\n",
              "  }\n",
              "\n",
              "  .colab-df-quickchart {\n",
              "    background-color: var(--bg-color);\n",
              "    border: none;\n",
              "    border-radius: 50%;\n",
              "    cursor: pointer;\n",
              "    display: none;\n",
              "    fill: var(--fill-color);\n",
              "    height: 32px;\n",
              "    padding: 0;\n",
              "    width: 32px;\n",
              "  }\n",
              "\n",
              "  .colab-df-quickchart:hover {\n",
              "    background-color: var(--hover-bg-color);\n",
              "    box-shadow: 0 1px 2px rgba(60, 64, 67, 0.3), 0 1px 3px 1px rgba(60, 64, 67, 0.15);\n",
              "    fill: var(--button-hover-fill-color);\n",
              "  }\n",
              "\n",
              "  .colab-df-quickchart-complete:disabled,\n",
              "  .colab-df-quickchart-complete:disabled:hover {\n",
              "    background-color: var(--disabled-bg-color);\n",
              "    fill: var(--disabled-fill-color);\n",
              "    box-shadow: none;\n",
              "  }\n",
              "\n",
              "  .colab-df-spinner {\n",
              "    border: 2px solid var(--fill-color);\n",
              "    border-color: transparent;\n",
              "    border-bottom-color: var(--fill-color);\n",
              "    animation:\n",
              "      spin 1s steps(1) infinite;\n",
              "  }\n",
              "\n",
              "  @keyframes spin {\n",
              "    0% {\n",
              "      border-color: transparent;\n",
              "      border-bottom-color: var(--fill-color);\n",
              "      border-left-color: var(--fill-color);\n",
              "    }\n",
              "    20% {\n",
              "      border-color: transparent;\n",
              "      border-left-color: var(--fill-color);\n",
              "      border-top-color: var(--fill-color);\n",
              "    }\n",
              "    30% {\n",
              "      border-color: transparent;\n",
              "      border-left-color: var(--fill-color);\n",
              "      border-top-color: var(--fill-color);\n",
              "      border-right-color: var(--fill-color);\n",
              "    }\n",
              "    40% {\n",
              "      border-color: transparent;\n",
              "      border-right-color: var(--fill-color);\n",
              "      border-top-color: var(--fill-color);\n",
              "    }\n",
              "    60% {\n",
              "      border-color: transparent;\n",
              "      border-right-color: var(--fill-color);\n",
              "    }\n",
              "    80% {\n",
              "      border-color: transparent;\n",
              "      border-right-color: var(--fill-color);\n",
              "      border-bottom-color: var(--fill-color);\n",
              "    }\n",
              "    90% {\n",
              "      border-color: transparent;\n",
              "      border-bottom-color: var(--fill-color);\n",
              "    }\n",
              "  }\n",
              "</style>\n",
              "\n",
              "  <script>\n",
              "    async function quickchart(key) {\n",
              "      const quickchartButtonEl =\n",
              "        document.querySelector('#' + key + ' button');\n",
              "      quickchartButtonEl.disabled = true;  // To prevent multiple clicks.\n",
              "      quickchartButtonEl.classList.add('colab-df-spinner');\n",
              "      try {\n",
              "        const charts = await google.colab.kernel.invokeFunction(\n",
              "            'suggestCharts', [key], {});\n",
              "      } catch (error) {\n",
              "        console.error('Error during call to suggestCharts:', error);\n",
              "      }\n",
              "      quickchartButtonEl.classList.remove('colab-df-spinner');\n",
              "      quickchartButtonEl.classList.add('colab-df-quickchart-complete');\n",
              "    }\n",
              "    (() => {\n",
              "      let quickchartButtonEl =\n",
              "        document.querySelector('#df-926e2fc5-1da4-4005-9f5d-f1fcd8bec3fc button');\n",
              "      quickchartButtonEl.style.display =\n",
              "        google.colab.kernel.accessAllowed ? 'block' : 'none';\n",
              "    })();\n",
              "  </script>\n",
              "</div>\n",
              "    </div>\n",
              "  </div>\n"
            ]
          },
          "metadata": {},
          "execution_count": 7
        }
      ]
    },
    {
      "cell_type": "code",
      "execution_count": 8,
      "metadata": {
        "_uuid": "fb4c9db6d8a5bcf20ffad41747cfa5b6215ba220",
        "id": "Rtxax4x-y8YG"
      },
      "outputs": [],
      "source": [
        "# Checking for missing values, choose for data training and set in kind of year\n",
        "#a : until year training\n",
        "#b : year for testing\n",
        "training_set = dataset[:'2016'].iloc[:,1:2].values\n",
        "test_set = dataset['2017':].iloc[:,1:2].values"
      ]
    },
    {
      "cell_type": "code",
      "source": [
        "#mencari data na\n",
        "dataset.isna().sum()"
      ],
      "metadata": {
        "colab": {
          "base_uri": "https://localhost:8080/"
        },
        "id": "BLrMEOJCCeaD",
        "outputId": "ad62741d-7de2-48a6-ecf4-32635646e2f7"
      },
      "execution_count": 12,
      "outputs": [
        {
          "output_type": "execute_result",
          "data": {
            "text/plain": [
              "Open      0\n",
              "High      0\n",
              "Low       0\n",
              "Close     0\n",
              "Volume    0\n",
              "Name      0\n",
              "dtype: int64"
            ]
          },
          "metadata": {},
          "execution_count": 12
        }
      ]
    },
    {
      "cell_type": "code",
      "source": [
        "#dataset = dataset.dropna() #tidak ada na"
      ],
      "metadata": {
        "id": "YscULwHqDGUT"
      },
      "execution_count": 13,
      "outputs": []
    },
    {
      "cell_type": "code",
      "source": [
        "#dataset.isna().sum()"
      ],
      "metadata": {
        "id": "WCFBVO1DDLGD"
      },
      "execution_count": 10,
      "outputs": []
    },
    {
      "cell_type": "code",
      "source": [
        "#mencari data null\n",
        "dataset.isnull().sum()"
      ],
      "metadata": {
        "colab": {
          "base_uri": "https://localhost:8080/"
        },
        "id": "_qm3axKhEJVh",
        "outputId": "0d131d90-4263-46bd-f2d6-2fed68757236"
      },
      "execution_count": 13,
      "outputs": [
        {
          "output_type": "execute_result",
          "data": {
            "text/plain": [
              "Open      0\n",
              "High      0\n",
              "Low       0\n",
              "Close     0\n",
              "Volume    0\n",
              "Name      0\n",
              "dtype: int64"
            ]
          },
          "metadata": {},
          "execution_count": 13
        }
      ]
    },
    {
      "cell_type": "code",
      "source": [
        "# We have chosen 'High' attribute for prices. Let's see what it looks like\n",
        "dataset[\"High\"][:'2016'].plot(figsize=(16,4),legend=True)\n",
        "dataset[\"High\"]['2017':].plot(figsize=(16,4),legend=True)\n",
        "plt.legend(['Training set (Before 2017)','Test set (2017 and beyond)'])\n",
        "plt.title('AMZN stock price')\n",
        "plt.show()"
      ],
      "metadata": {
        "colab": {
          "base_uri": "https://localhost:8080/",
          "height": 413
        },
        "id": "sdaETGpRAU87",
        "outputId": "de798d7a-f65e-4ae0-a74a-4a642e76c4a9"
      },
      "execution_count": 15,
      "outputs": [
        {
          "output_type": "display_data",
          "data": {
            "text/plain": [
              "<Figure size 1600x400 with 1 Axes>"
            ],
            "image/png": "[encoded data removed]"
          },
          "metadata": {}
        }
      ]
    },
    {
      "cell_type": "markdown",
      "metadata": {
        "id": "GpgvBFLyy8YH"
      },
      "source": [
        "### Write your insight in EDA here\n",
        "Kita mencari dmn sebuah saham mencapa titik tertingginya dalam beberapa tahun sehingga dapat memprediksi untuk tahun berikutnya tapi sebelum itu astikan data sudah bersih dari null dan na"
      ]
    },
    {
      "cell_type": "code",
      "execution_count": 17,
      "metadata": {
        "_uuid": "bf5a9463d58e73852d2b70be9611e8cf1f4166fd",
        "colab": {
          "base_uri": "https://localhost:8080/",
          "height": 495
        },
        "id": "7Th0lZNLy8YI",
        "outputId": "0df631b2-b829-406e-d916-1c6b534f13e7"
      },
      "outputs": [
        {
          "output_type": "execute_result",
          "data": {
            "text/plain": [
              "<Axes: xlabel='Date', ylabel='High'>"
            ]
          },
          "metadata": {},
          "execution_count": 17
        },
        {
          "output_type": "display_data",
          "data": {
            "text/plain": [
              "<Figure size 640x480 with 1 Axes>"
            ],
            "image/png": "[encoded data removed]"
          },
          "metadata": {}
        }
      ],
      "source": [
        "#Checking for stock's market company with line plot\n",
        "#Write your code below\n",
        "\n",
        "sns.lineplot(data=dataset['High'])"
      ]
    },
    {
      "cell_type": "code",
      "execution_count": 18,
      "metadata": {
        "_uuid": "bcc9c36165fc07d258bd5ea87874d2da17fa4a4d",
        "id": "W2MHIBoGy8YI"
      },
      "outputs": [],
      "source": [
        "# Scaling with minmaxscaller for data train\n",
        "sc = MinMaxScaler(feature_range=(0,1))\n",
        "training_set_scaled = sc.fit_transform(training_set)"
      ]
    },
    {
      "cell_type": "code",
      "execution_count": 19,
      "metadata": {
        "colab": {
          "base_uri": "https://localhost:8080/"
        },
        "id": "NLHnnQ0Jy8YJ",
        "outputId": "e2fe28c3-cfb9-48d8-945d-20a6d0e4459e"
      },
      "outputs": [
        {
          "output_type": "execute_result",
          "data": {
            "text/plain": [
              "(2768, 1)"
            ]
          },
          "metadata": {},
          "execution_count": 19
        }
      ],
      "source": [
        "#checking shape of data train\n",
        "training_set_scaled.shape"
      ]
    },
    {
      "cell_type": "code",
      "execution_count": 20,
      "metadata": {
        "_uuid": "fccfb866a2b4c702e0b2742f7c0289512d713d1b",
        "id": "_VVAuQr1y8YJ"
      },
      "outputs": [],
      "source": [
        "# create data structure to fill how many row for input in your model at data train\n",
        "X_train = []\n",
        "y_train = []\n",
        "for i in range(60,2768):\n",
        "    X_train.append(training_set_scaled[i-60:i,0])\n",
        "    y_train.append(training_set_scaled[i,0])\n",
        "    #fill for x_train and y_train here\n",
        "\n",
        "#change it into the array\n",
        "X_train, y_train = np.array(X_train), np.array(y_train)"
      ]
    },
    {
      "cell_type": "code",
      "execution_count": 21,
      "metadata": {
        "_uuid": "637f699d3c4bde4b783de56ed4dd70a1bf59760d",
        "id": "pAXsTpN7y8YK"
      },
      "outputs": [],
      "source": [
        "# Reshaping X_train before modelling\n",
        "X_train = np.reshape(X_train, (X_train.shape[0],X_train.shape[1],1))"
      ]
    },
    {
      "cell_type": "markdown",
      "metadata": {
        "id": "EL4MmOely8YK"
      },
      "source": [
        "## Modelling"
      ]
    },
    {
      "cell_type": "code",
      "execution_count": 22,
      "metadata": {
        "_uuid": "df20eb7e8062dae0a3aff2182aa440faddd0017d",
        "scrolled": true,
        "colab": {
          "base_uri": "https://localhost:8080/"
        },
        "id": "EPQUa1tNy8YL",
        "outputId": "cc890114-2837-42f6-cd3e-4571ea3f473c"
      },
      "outputs": [
        {
          "output_type": "stream",
          "name": "stdout",
          "text": [
            "Epoch 1/50\n",
            "85/85 [==============================] - 11s 76ms/step - loss: 0.0100\n",
            "Epoch 2/50\n",
            "85/85 [==============================] - 6s 70ms/step - loss: 0.0043\n",
            "Epoch 3/50\n",
            "85/85 [==============================] - 6s 76ms/step - loss: 0.0030\n",
            "Epoch 4/50\n",
            "85/85 [==============================] - 6s 74ms/step - loss: 0.0031\n",
            "Epoch 5/50\n",
            "85/85 [==============================] - 10s 115ms/step - loss: 0.0026\n",
            "Epoch 6/50\n",
            "85/85 [==============================] - 8s 97ms/step - loss: 0.0021\n",
            "Epoch 7/50\n",
            "85/85 [==============================] - 6s 76ms/step - loss: 0.0021\n",
            "Epoch 8/50\n",
            "85/85 [==============================] - 6s 70ms/step - loss: 0.0021\n",
            "Epoch 9/50\n",
            "85/85 [==============================] - 6s 75ms/step - loss: 0.0020\n",
            "Epoch 10/50\n",
            "85/85 [==============================] - 6s 70ms/step - loss: 0.0017\n",
            "Epoch 11/50\n",
            "85/85 [==============================] - 6s 75ms/step - loss: 0.0018\n",
            "Epoch 12/50\n",
            "85/85 [==============================] - 6s 70ms/step - loss: 0.0018\n",
            "Epoch 13/50\n",
            "85/85 [==============================] - 6s 74ms/step - loss: 0.0015\n",
            "Epoch 14/50\n",
            "85/85 [==============================] - 6s 70ms/step - loss: 0.0015\n",
            "Epoch 15/50\n",
            "85/85 [==============================] - 6s 74ms/step - loss: 0.0014\n",
            "Epoch 16/50\n",
            "85/85 [==============================] - 6s 73ms/step - loss: 0.0015\n",
            "Epoch 17/50\n",
            "85/85 [==============================] - 6s 72ms/step - loss: 0.0015\n",
            "Epoch 18/50\n",
            "85/85 [==============================] - 6s 75ms/step - loss: 0.0014\n",
            "Epoch 19/50\n",
            "85/85 [==============================] - 7s 82ms/step - loss: 0.0015\n",
            "Epoch 20/50\n",
            "85/85 [==============================] - 7s 79ms/step - loss: 0.0014\n",
            "Epoch 21/50\n",
            "85/85 [==============================] - 6s 72ms/step - loss: 0.0012\n",
            "Epoch 22/50\n",
            "85/85 [==============================] - 6s 75ms/step - loss: 0.0013\n",
            "Epoch 23/50\n",
            "85/85 [==============================] - 6s 70ms/step - loss: 0.0012\n",
            "Epoch 24/50\n",
            "85/85 [==============================] - 6s 75ms/step - loss: 0.0012\n",
            "Epoch 25/50\n",
            "85/85 [==============================] - 7s 77ms/step - loss: 0.0013\n",
            "Epoch 26/50\n",
            "85/85 [==============================] - 6s 71ms/step - loss: 0.0013\n",
            "Epoch 27/50\n",
            "85/85 [==============================] - 6s 76ms/step - loss: 0.0011\n",
            "Epoch 28/50\n",
            "85/85 [==============================] - 6s 70ms/step - loss: 0.0011\n",
            "Epoch 29/50\n",
            "85/85 [==============================] - 6s 76ms/step - loss: 0.0011\n",
            "Epoch 30/50\n",
            "85/85 [==============================] - 6s 70ms/step - loss: 0.0012\n",
            "Epoch 31/50\n",
            "85/85 [==============================] - 6s 75ms/step - loss: 0.0011\n",
            "Epoch 32/50\n",
            "85/85 [==============================] - 6s 70ms/step - loss: 0.0011\n",
            "Epoch 33/50\n",
            "85/85 [==============================] - 6s 76ms/step - loss: 0.0010\n",
            "Epoch 34/50\n",
            "85/85 [==============================] - 6s 70ms/step - loss: 0.0012\n",
            "Epoch 35/50\n",
            "85/85 [==============================] - 6s 75ms/step - loss: 0.0011\n",
            "Epoch 36/50\n",
            "85/85 [==============================] - 6s 74ms/step - loss: 0.0010\n",
            "Epoch 37/50\n",
            "85/85 [==============================] - 6s 70ms/step - loss: 0.0010\n",
            "Epoch 38/50\n",
            "85/85 [==============================] - 6s 76ms/step - loss: 9.9896e-04\n",
            "Epoch 39/50\n",
            "85/85 [==============================] - 6s 70ms/step - loss: 0.0011\n",
            "Epoch 40/50\n",
            "85/85 [==============================] - 6s 75ms/step - loss: 9.6900e-04\n",
            "Epoch 41/50\n",
            "85/85 [==============================] - 6s 70ms/step - loss: 0.0010\n",
            "Epoch 42/50\n",
            "85/85 [==============================] - 6s 77ms/step - loss: 0.0010\n",
            "Epoch 43/50\n",
            "85/85 [==============================] - 6s 70ms/step - loss: 0.0011\n",
            "Epoch 44/50\n",
            "85/85 [==============================] - 7s 77ms/step - loss: 0.0010\n",
            "Epoch 45/50\n",
            "85/85 [==============================] - 6s 72ms/step - loss: 9.4944e-04\n",
            "Epoch 46/50\n",
            "85/85 [==============================] - 6s 76ms/step - loss: 9.0322e-04\n",
            "Epoch 47/50\n",
            "85/85 [==============================] - 6s 76ms/step - loss: 9.7148e-04\n",
            "Epoch 48/50\n",
            "85/85 [==============================] - 7s 76ms/step - loss: 0.0011\n",
            "Epoch 49/50\n",
            "85/85 [==============================] - 6s 76ms/step - loss: 0.0010\n",
            "Epoch 50/50\n",
            "85/85 [==============================] - 6s 70ms/step - loss: 0.0010\n"
          ]
        },
        {
          "output_type": "execute_result",
          "data": {
            "text/plain": [
              "<keras.src.callbacks.History at 0x79dcfff09fc0>"
            ]
          },
          "metadata": {},
          "execution_count": 22
        }
      ],
      "source": [
        "# Sequential Modelling\n",
        "model = Sequential()\n",
        "# First LSTM layer with Dropout regularisation\n",
        "model.add(LSTM(units=50, return_sequences=True, input_shape=(X_train.shape[1],1)))\n",
        "model.add(Dropout(0.2))\n",
        "# Second LSTM layer\n",
        "model.add(LSTM(units=50, return_sequences=True))\n",
        "model.add(Dropout(0.2))\n",
        "# Third LSTM layer, fill the code below\n",
        "model.add(LSTM(units=50, return_sequences=True))\n",
        "model.add(Dropout(0.2))\n",
        "# Fourth LSTM layer, fill the code below\n",
        "model.add(LSTM(units=50))\n",
        "model.add(Dropout(0.2))\n",
        "# The output layer\n",
        "model.add(Dense(units=1))\n",
        "# Compiling\n",
        "model.compile(optimizer='rmsprop',loss='mean_squared_error')\n",
        "# Train fitting for the model\n",
        "model.fit(X_train,y_train,epochs=50,batch_size=32)"
      ]
    },
    {
      "cell_type": "code",
      "execution_count": 23,
      "metadata": {
        "_uuid": "326fa85615622feb484cc4c848edeec6f7133913",
        "id": "KpeiZMw1y8YL"
      },
      "outputs": [],
      "source": [
        "# Prepare for data test similar way for data train\n",
        "dataset_total = pd.concat((dataset[\"High\"][:'2016'],dataset[\"High\"]['2017':]),axis=0)\n",
        "test = dataset_total[len(dataset_total)-len(test_set) - 60:].values\n",
        "test = test.reshape(-1,1)\n",
        "test  = sc.transform(test)\n",
        "#Transform the inputs"
      ]
    },
    {
      "cell_type": "code",
      "execution_count": 24,
      "metadata": {
        "colab": {
          "base_uri": "https://localhost:8080/"
        },
        "id": "uvjTg9Soy8YL",
        "outputId": "9a5e3509-23cc-4030-e5db-0f2b49700ae4"
      },
      "outputs": [
        {
          "output_type": "execute_result",
          "data": {
            "text/plain": [
              "(311, 1)"
            ]
          },
          "metadata": {},
          "execution_count": 24
        }
      ],
      "source": [
        "#checking data test shape\n",
        "test.shape"
      ]
    },
    {
      "cell_type": "markdown",
      "metadata": {
        "id": "meNLH5VGy8YL"
      },
      "source": [
        "### Prediction"
      ]
    },
    {
      "cell_type": "code",
      "execution_count": 26,
      "metadata": {
        "_uuid": "435b8024814939ac4fbd372baa0cd8cfc78f80bc",
        "colab": {
          "base_uri": "https://localhost:8080/"
        },
        "id": "47IUrBGzy8YL",
        "outputId": "4ff8cfa9-63c7-49dc-e26c-9371e89dc7a2"
      },
      "outputs": [
        {
          "output_type": "stream",
          "name": "stdout",
          "text": [
            "8/8 [==============================] - 2s 27ms/step\n"
          ]
        }
      ],
      "source": [
        "# Preparing X_test and predicting the prices of the stock's that you choose\n",
        "X_test = []\n",
        "for i in range(60,311):\n",
        "    X_test.append(test[i-60:i,0])\n",
        "X_test = np.array(X_test)\n",
        "X_test = np.reshape(X_test, (X_test.shape[0],X_test.shape[1],1))\n",
        "#Predicting stocks price\n",
        "predicted_stock_price = model.predict(X_test)\n",
        "predicted_stock_price = sc.inverse_transform(predicted_stock_price)"
      ]
    },
    {
      "cell_type": "code",
      "execution_count": 27,
      "metadata": {
        "_uuid": "b774a8e79e53eac89694cafef6b11aa99226b95f",
        "scrolled": false,
        "colab": {
          "base_uri": "https://localhost:8080/",
          "height": 508
        },
        "id": "Sa7kLj9zy8YM",
        "outputId": "ce0c067a-a10d-46ea-c1f0-2a9a1071b59c"
      },
      "outputs": [
        {
          "output_type": "display_data",
          "data": {
            "text/plain": [
              "<Figure size 640x480 with 1 Axes>"
            ],
            "image/png": "[encoded data removed]"
          },
          "metadata": {}
        }
      ],
      "source": [
        "# Visualizing the results for prediction\n",
        "prediction_plot(test_set,predicted_stock_price)"
      ]
    },
    {
      "cell_type": "code",
      "execution_count": 28,
      "metadata": {
        "_uuid": "f6f6db0b6e1f17ac63c06ce49856873d98ba5f00",
        "colab": {
          "base_uri": "https://localhost:8080/"
        },
        "id": "g3gXOevHy8YM",
        "outputId": "c7866e32-617a-41c9-f4ed-659c0718f0e3"
      },
      "outputs": [
        {
          "output_type": "stream",
          "name": "stdout",
          "text": [
            "The root mean squared error is 55.528353421932295.\n"
          ]
        }
      ],
      "source": [
        "# Evaluating our model with RMSE function above\n",
        "rmse_eval(test_set,predicted_stock_price)"
      ]
    },
    {
      "cell_type": "markdown",
      "metadata": {
        "_uuid": "a4cf704ab3cd091f63b7b9a1b9224a49f0913171",
        "id": "Ujm6Fy24y8YM"
      },
      "source": [
        "### Write your Insight and advice here :)\n"
      ]
    },
    {
      "cell_type": "markdown",
      "metadata": {
        "id": "nYO8iuJ8y8YM"
      },
      "source": [
        "Peforma RNN cukup baik tapi di akhir tidak terlalu sama persis, tapi sudah mewakili nilai realnya"
      ]
    }
  ],
  "metadata": {
    "kernelspec": {
      "display_name": "Python 3",
      "language": "python",
      "name": "python3"
    },
    "language_info": {
      "codemirror_mode": {
        "name": "ipython",
        "version": 3
      },
      "file_extension": ".py",
      "mimetype": "text/x-python",
      "name": "python",
      "nbconvert_exporter": "python",
      "pygments_lexer": "ipython3",
      "version": "3.8.5"
    },
    "colab": {
      "provenance": []
    }
  },
  "nbformat": 4,
  "nbformat_minor": 0
}